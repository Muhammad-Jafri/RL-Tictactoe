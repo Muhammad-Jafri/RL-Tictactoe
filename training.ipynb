{
 "cells": [
  {
   "cell_type": "code",
   "execution_count": 1,
   "metadata": {},
   "outputs": [],
   "source": [
    "import numpy as np\n",
    "import matplotlib.pyplot as plt\n",
    "import itertools\n",
    "from collections import defaultdict"
   ]
  },
  {
   "cell_type": "code",
   "execution_count": 2,
   "metadata": {},
   "outputs": [],
   "source": [
    "win_conditions = [(0, 1, 2), (3, 4, 5), (6, 7, 8),\n",
    "                        (0, 3, 6), (1, 4, 7), (2, 5, 8),\n",
    "                        (0, 4, 8), (2, 4, 6)]\n"
   ]
  },
  {
   "cell_type": "code",
   "execution_count": 3,
   "metadata": {},
   "outputs": [
    {
     "data": {
      "text/plain": [
       "19683"
      ]
     },
     "execution_count": 3,
     "metadata": {},
     "output_type": "execute_result"
    }
   ],
   "source": [
    "\n",
    "state_rewards = {}\n",
    "def init_state_space():\n",
    "    possible_values = [-1, 0, 1]\n",
    "    total_states = list(itertools.product(possible_values, repeat=9))\n",
    "    state_space = [list(state) for state in total_states]\n",
    "    return state_space\n",
    "\n",
    "\n",
    "all_states = init_state_space()\n",
    "\n",
    "len(all_states)"
   ]
  },
  {
   "cell_type": "code",
   "execution_count": 4,
   "metadata": {},
   "outputs": [],
   "source": [
    "def invalid_state(state): #returns True if the state is invalid else return False\n",
    "    \n",
    "    state = list(state)\n",
    "    num_minusone = 0\n",
    "    num_plusone = 0\n",
    "\n",
    "    for i in range(len(state)):\n",
    "        if(state[i] == -1):\n",
    "            num_minusone+=1\n",
    "        if(state[i] == 1):\n",
    "            num_plusone+=1\n",
    "\n",
    "    diff = (num_minusone - num_plusone)\n",
    "\n",
    "    if(diff <= 1 and diff >= 0):\n",
    "        return False\n",
    "    \n",
    "    return True\n",
    "\n",
    "\n",
    "def check_win_minusone(state): #returns true if -1 wins\n",
    "    \n",
    "\n",
    "    for i in win_conditions:\n",
    "        if(state[i[0]] == -1 and state[i[1]] == -1 and state[i[2]] == -1):\n",
    "            return True\n",
    "        \n",
    "    return False\n",
    "    \n",
    "\n",
    "def check_win_one(state): #returns True if +1 wins\n",
    "\n",
    "\n",
    "\n",
    "    for i in win_conditions:\n",
    "        if(state[i[0]] == 1 and state[i[1]] == 1 and state[i[2]] == 1):\n",
    "            return True\n",
    "        \n",
    "    return False\n",
    "    \n",
    "\n",
    "def check_draw(state): #returns True if draw\n",
    "\n",
    "    zeros = 0\n",
    "\n",
    "    for i in state:\n",
    "        if i == 0:\n",
    "            zeros+=1\n",
    "\n",
    "\n",
    "    if(check_win_minusone(state) == False and check_win_one(state) == False and zeros == 0):\n",
    "        return True\n",
    "    \n",
    "    return False\n",
    "  \n",
    "\n",
    "def check_still_going(state): #returns True if match still going on\n",
    "    \n",
    "    if(check_win_minusone(state)):\n",
    "        return False\n",
    "    \n",
    "    if(check_win_one(state)):\n",
    "        return False\n",
    "    \n",
    "    if(check_draw(state)):\n",
    "        return False\n",
    "    \n",
    "    return True\n",
    "\n",
    "\n",
    "def current_player_turn(state):\n",
    "\n",
    "    number_one = 0\n",
    "    number_minusone = 0\n",
    "\n",
    "    for i in state:\n",
    "        if i == -1:\n",
    "            number_minusone+=1\n",
    "            \n",
    "        elif i == 1:\n",
    "            number_one+=1\n",
    "\n",
    "    if(number_minusone - number_one == 0):\n",
    "        return -1\n",
    "    \n",
    "    if(number_minusone - number_one == 1):\n",
    "        return 1\n",
    "\n",
    "\n",
    "def get_empty_positions(state):\n",
    "    empty_pos = []\n",
    "\n",
    "\n",
    "    for i in range(len(state)):\n",
    "        if state[i] == 0:\n",
    "            empty_pos.append(i)\n",
    "\n",
    "    return empty_pos\n",
    "\n",
    "\n",
    "\n",
    "def index_max_val(dict_obj):\n",
    "    \n",
    "    if not dict_obj:\n",
    "        return None  # Return None for an empty dict_obj\n",
    "\n",
    "    max_key = max(dict_obj, key=dict_obj.get)\n",
    "    max_value = dict_obj[max_key]\n",
    "    return max_key, max_value\n",
    "\n",
    "\n",
    "def index_min_val(dict_obj):\n",
    "    if not dict_obj:\n",
    "        return None  # Return None for an empty dict_obj\n",
    "\n",
    "    min_key = min(dict_obj, key=dict_obj.get)\n",
    "    min_value = dict_obj[min_key   ]\n",
    "\n",
    "    return min_key , min_value"
   ]
  },
  {
   "cell_type": "code",
   "execution_count": 5,
   "metadata": {},
   "outputs": [
    {
     "data": {
      "text/plain": [
       "6046"
      ]
     },
     "execution_count": 5,
     "metadata": {},
     "output_type": "execute_result"
    }
   ],
   "source": [
    "pruned_states = []\n",
    "\n",
    "for i in range(len(all_states)):\n",
    "    if(invalid_state(all_states[i])):\n",
    "        continue\n",
    "    pruned_states.append(all_states[i])\n",
    "\n",
    "\n",
    "len(pruned_states)"
   ]
  },
  {
   "cell_type": "code",
   "execution_count": 6,
   "metadata": {},
   "outputs": [
    {
     "data": {
      "text/plain": [
       "1715"
      ]
     },
     "execution_count": 6,
     "metadata": {},
     "output_type": "execute_result"
    }
   ],
   "source": [
    "value = [-1,1,0,-1,1,0,-1,0,0]\n",
    "index_val = pruned_states.index(value)\n",
    "\n",
    "pruned_states[index_val]\n",
    "index_val"
   ]
  },
  {
   "cell_type": "code",
   "execution_count": 7,
   "metadata": {},
   "outputs": [],
   "source": [
    "state_configurations = np.zeros((len(pruned_states), 9))\n",
    "state_rewards = np.zeros(len(pruned_states))\n",
    "\n",
    "for i in range(len(pruned_states)):\n",
    "    \n",
    "    state_configurations[i] = np.array(pruned_states[i])\n",
    "\n",
    "    if(check_win_minusone(pruned_states[i])):\n",
    "        state_rewards[i] = 1\n",
    "        continue\n",
    "    if(check_win_one(pruned_states[i])):\n",
    "        state_rewards[i] = -1\n",
    "        continue\n",
    "\n",
    "state_configurations.setflags(write=False)\n",
    "state_rewards.setflags(write=False)\n"
   ]
  },
  {
   "cell_type": "code",
   "execution_count": 8,
   "metadata": {},
   "outputs": [
    {
     "data": {
      "text/plain": [
       "array([-1.,  1.,  0., -1.,  1.,  0., -1.,  0.,  0.])"
      ]
     },
     "execution_count": 8,
     "metadata": {},
     "output_type": "execute_result"
    }
   ],
   "source": [
    "# len(state_configurations)\n",
    "\n",
    "testing = [-1,1,0,-1,1,0,-1,0,0]\n",
    "testing_state =  np.where(np.all(state_configurations == testing, axis=1))[0][0]\n",
    "\n",
    "testing_state\n",
    "\n",
    "state_configurations[1715]"
   ]
  },
  {
   "cell_type": "code",
   "execution_count": 9,
   "metadata": {},
   "outputs": [
    {
     "data": {
      "text/plain": [
       "array([ 1.,  0.,  0., -1.,  0.,  1., -1., -1.,  0.])"
      ]
     },
     "execution_count": 9,
     "metadata": {},
     "output_type": "execute_result"
    }
   ],
   "source": [
    "state_configurations[5324]"
   ]
  },
  {
   "cell_type": "code",
   "execution_count": 10,
   "metadata": {},
   "outputs": [],
   "source": [
    "# for i in range(len(state_rewards)):\n",
    "#     print(f\"State {i}: {state_configurations[i]} and rewards = {state_rewards[i]}\")\n"
   ]
  },
  {
   "cell_type": "code",
   "execution_count": 11,
   "metadata": {},
   "outputs": [],
   "source": [
    "def get_state_configuration(numpy_obj, state):\n",
    "    return numpy_obj[state]"
   ]
  },
  {
   "cell_type": "code",
   "execution_count": 12,
   "metadata": {},
   "outputs": [],
   "source": [
    "def value_iteration(epsilon, gamma):\n",
    "    \n",
    "    TOTAL_STATES = 6046\n",
    "    MAX_ITER = 10\n",
    "    value_table_1 = np.zeros(TOTAL_STATES)\n",
    "    value_table_2 = np.zeros(TOTAL_STATES)\n",
    "    optimal_policies = np.zeros(TOTAL_STATES)\n",
    "\n",
    "    cur_iter = 0\n",
    "    \n",
    "    while cur_iter < MAX_ITER:\n",
    "\n",
    "        for state in range(TOTAL_STATES):\n",
    "\n",
    "            if(not check_still_going(state_configurations[state])):\n",
    "                continue\n",
    "\n",
    "            \n",
    "            current_player = current_player_turn(state_configurations[state])\n",
    "\n",
    "\n",
    "            if(current_player == -1):\n",
    "\n",
    "                possibile_positions = get_empty_positions(state_configurations[state])\n",
    "\n",
    "                possible_configurations = []\n",
    "\n",
    "\n",
    "                for i in possibile_positions:\n",
    "                    \n",
    "                    \n",
    "                    # temp_1 = state_configurations[state]\n",
    "                    temp = [0 for i in range(9)]\n",
    "                    # temp = state_configurations[state]\n",
    "                    # temp = get_state_configuration(state_configurations, state)\n",
    "                    temp = np.array(state_configurations[state])\n",
    "\n",
    "                    temp[i] = - 1\n",
    "\n",
    "                    possible_configurations.append(temp)\n",
    "\n",
    "\n",
    "                possible_states = []\n",
    "\n",
    "                for i in possible_configurations:\n",
    "\n",
    "                    # next_state = np.where(state_configurations == i)[0][0]\n",
    "                    next_state = np.where(np.all(state_configurations == np.array(i), axis=1))[0][0]\n",
    "\n",
    "\n",
    "                    possible_states.append(next_state)\n",
    "\n",
    "\n",
    "                q_table = np.zeros(len(possible_states))\n",
    "\n",
    "                for i in range(len(q_table)):\n",
    "\n",
    "                    q_table[i] = state_rewards[possible_states[i]] + gamma*value_table_1[possible_states[i]]\n",
    "\n",
    "                \n",
    "                value_table_2[state] = np.max(q_table)\n",
    "                index_max = np.argmax(q_table)\n",
    "                optimal_policies[state] = possible_states[index_max]\n",
    "            \n",
    "            \n",
    "            elif(current_player == 1):\n",
    "\n",
    "                possibile_positions = get_empty_positions(state_configurations[state])\n",
    "\n",
    "                possible_configurations = []\n",
    "\n",
    "\n",
    "                for i in possibile_positions:\n",
    "\n",
    "                    \n",
    "                    # temp = np.array(state_configurations[state])\n",
    "                    # temp = [0 for i in range(9)]\n",
    "                    # temp = state_configurations[state]\n",
    "                    # temp = get_state_configuration(state_configurations,state)\n",
    "                    temp = np.array(state_configurations[state])\n",
    "                    temp[i] = 1\n",
    "\n",
    "                    possible_configurations.append(temp)\n",
    "\n",
    "                possible_states = []\n",
    "\n",
    "                for i in possible_configurations:\n",
    "\n",
    "                    # next_state = np.where(state_configurations == i)[0][0]\n",
    "                    next_state = np.where(np.all(state_configurations == np.array(i), axis=1))[0][0]\n",
    "\n",
    "                    possible_states.append(next_state)\n",
    "\n",
    "                q_table = np.zeros(len(possible_states))\n",
    "\n",
    "                for i in range(len(q_table)):\n",
    "\n",
    "                    q_table[i] = state_rewards[possible_states[i]] + gamma*value_table_1[possible_states[i]]\n",
    "\n",
    "                \n",
    "                value_table_2[state] = np.min(q_table)\n",
    "                index_max = np.argmin(q_table)\n",
    "                optimal_policies[state] = possible_states[index_max]\n",
    "\n",
    "        \n",
    "\n",
    "        delta = np.max(value_table_2) - np.max(value_table_1)\n",
    "\n",
    "        print(delta)\n",
    "\n",
    "\n",
    "        if(abs(delta) > 0 and abs(delta) < epsilon):\n",
    "            break\n",
    "        \n",
    "        # print(delta)\n",
    "\n",
    "        value_table_1 = value_table_2.copy()\n",
    "\n",
    "        value_table_2 = np.zeros(TOTAL_STATES)\n",
    "\n",
    "        cur_iter += 1\n",
    "\n",
    "    return optimal_policies, value_table_1\n",
    "\n",
    "\n",
    "\n",
    "\n",
    "            \n"
   ]
  },
  {
   "cell_type": "code",
   "execution_count": 13,
   "metadata": {},
   "outputs": [
    {
     "name": "stdout",
     "output_type": "stream",
     "text": [
      "1.0\n",
      "0.0\n",
      "0.0\n",
      "0.0\n"
     ]
    },
    {
     "ename": "KeyboardInterrupt",
     "evalue": "",
     "output_type": "error",
     "traceback": [
      "\u001b[1;31m---------------------------------------------------------------------------\u001b[0m",
      "\u001b[1;31mKeyboardInterrupt\u001b[0m                         Traceback (most recent call last)",
      "\u001b[1;32mc:\\Users\\Muhammad Jafri\\Desktop\\tictactoe 3by 3\\lets_get_the_bread.ipynb Cell 13\u001b[0m line \u001b[0;36m1\n\u001b[1;32m----> <a href='vscode-notebook-cell:/c%3A/Users/Muhammad%20Jafri/Desktop/tictactoe%203by%203/lets_get_the_bread.ipynb#X15sZmlsZQ%3D%3D?line=0'>1</a>\u001b[0m optimal_policies, optimal_values \u001b[39m=\u001b[39m value_iteration(\u001b[39m0.0000000001\u001b[39;49m,\u001b[39m0.95\u001b[39;49m)\n",
      "\u001b[1;32mc:\\Users\\Muhammad Jafri\\Desktop\\tictactoe 3by 3\\lets_get_the_bread.ipynb Cell 13\u001b[0m line \u001b[0;36m4\n\u001b[0;32m     <a href='vscode-notebook-cell:/c%3A/Users/Muhammad%20Jafri/Desktop/tictactoe%203by%203/lets_get_the_bread.ipynb#X15sZmlsZQ%3D%3D?line=42'>43</a>\u001b[0m possible_states \u001b[39m=\u001b[39m []\n\u001b[0;32m     <a href='vscode-notebook-cell:/c%3A/Users/Muhammad%20Jafri/Desktop/tictactoe%203by%203/lets_get_the_bread.ipynb#X15sZmlsZQ%3D%3D?line=44'>45</a>\u001b[0m \u001b[39mfor\u001b[39;00m i \u001b[39min\u001b[39;00m possible_configurations:\n\u001b[0;32m     <a href='vscode-notebook-cell:/c%3A/Users/Muhammad%20Jafri/Desktop/tictactoe%203by%203/lets_get_the_bread.ipynb#X15sZmlsZQ%3D%3D?line=45'>46</a>\u001b[0m \n\u001b[0;32m     <a href='vscode-notebook-cell:/c%3A/Users/Muhammad%20Jafri/Desktop/tictactoe%203by%203/lets_get_the_bread.ipynb#X15sZmlsZQ%3D%3D?line=46'>47</a>\u001b[0m     \u001b[39m# next_state = np.where(state_configurations == i)[0][0]\u001b[39;00m\n\u001b[1;32m---> <a href='vscode-notebook-cell:/c%3A/Users/Muhammad%20Jafri/Desktop/tictactoe%203by%203/lets_get_the_bread.ipynb#X15sZmlsZQ%3D%3D?line=47'>48</a>\u001b[0m     next_state \u001b[39m=\u001b[39m np\u001b[39m.\u001b[39mwhere(np\u001b[39m.\u001b[39;49mall(state_configurations \u001b[39m==\u001b[39;49m np\u001b[39m.\u001b[39;49marray(i), axis\u001b[39m=\u001b[39;49m\u001b[39m1\u001b[39;49m))[\u001b[39m0\u001b[39m][\u001b[39m0\u001b[39m]\n\u001b[0;32m     <a href='vscode-notebook-cell:/c%3A/Users/Muhammad%20Jafri/Desktop/tictactoe%203by%203/lets_get_the_bread.ipynb#X15sZmlsZQ%3D%3D?line=50'>51</a>\u001b[0m     possible_states\u001b[39m.\u001b[39mappend(next_state)\n\u001b[0;32m     <a href='vscode-notebook-cell:/c%3A/Users/Muhammad%20Jafri/Desktop/tictactoe%203by%203/lets_get_the_bread.ipynb#X15sZmlsZQ%3D%3D?line=53'>54</a>\u001b[0m q_table \u001b[39m=\u001b[39m np\u001b[39m.\u001b[39mzeros(\u001b[39mlen\u001b[39m(possible_states))\n",
      "File \u001b[1;32mc:\\Users\\Muhammad Jafri\\AppData\\Local\\Programs\\Python\\Python310\\lib\\site-packages\\numpy\\core\\fromnumeric.py:2416\u001b[0m, in \u001b[0;36m_all_dispatcher\u001b[1;34m(a, axis, out, keepdims, where)\u001b[0m\n\u001b[0;32m   2324\u001b[0m \u001b[39m    \u001b[39m\u001b[39m\"\"\"\u001b[39;00m\n\u001b[0;32m   2325\u001b[0m \u001b[39m    Test whether any array element along a given axis evaluates to True.\u001b[39;00m\n\u001b[0;32m   2326\u001b[0m \n\u001b[1;32m   (...)\u001b[0m\n\u001b[0;32m   2410\u001b[0m \n\u001b[0;32m   2411\u001b[0m \u001b[39m    \"\"\"\u001b[39;00m\n\u001b[0;32m   2412\u001b[0m     \u001b[39mreturn\u001b[39;00m _wrapreduction(a, np\u001b[39m.\u001b[39mlogical_or, \u001b[39m'\u001b[39m\u001b[39many\u001b[39m\u001b[39m'\u001b[39m, axis, \u001b[39mNone\u001b[39;00m, out,\n\u001b[0;32m   2413\u001b[0m                           keepdims\u001b[39m=\u001b[39mkeepdims, where\u001b[39m=\u001b[39mwhere)\n\u001b[1;32m-> 2416\u001b[0m \u001b[39mdef\u001b[39;00m \u001b[39m_all_dispatcher\u001b[39m(a, axis\u001b[39m=\u001b[39m\u001b[39mNone\u001b[39;00m, out\u001b[39m=\u001b[39m\u001b[39mNone\u001b[39;00m, keepdims\u001b[39m=\u001b[39m\u001b[39mNone\u001b[39;00m, \u001b[39m*\u001b[39m,\n\u001b[0;32m   2417\u001b[0m                     where\u001b[39m=\u001b[39m\u001b[39mNone\u001b[39;00m):\n\u001b[0;32m   2418\u001b[0m     \u001b[39mreturn\u001b[39;00m (a, where, out)\n\u001b[0;32m   2421\u001b[0m \u001b[39m@array_function_dispatch\u001b[39m(_all_dispatcher)\n\u001b[0;32m   2422\u001b[0m \u001b[39mdef\u001b[39;00m \u001b[39mall\u001b[39m(a, axis\u001b[39m=\u001b[39m\u001b[39mNone\u001b[39;00m, out\u001b[39m=\u001b[39m\u001b[39mNone\u001b[39;00m, keepdims\u001b[39m=\u001b[39mnp\u001b[39m.\u001b[39m_NoValue, \u001b[39m*\u001b[39m, where\u001b[39m=\u001b[39mnp\u001b[39m.\u001b[39m_NoValue):\n",
      "\u001b[1;31mKeyboardInterrupt\u001b[0m: "
     ]
    }
   ],
   "source": [
    "optimal_policies, optimal_values = value_iteration(0.0000000001,0.95)"
   ]
  },
  {
   "cell_type": "code",
   "execution_count": null,
   "metadata": {},
   "outputs": [],
   "source": [
    "# print(optimal_policies[5324])"
   ]
  },
  {
   "cell_type": "code",
   "execution_count": null,
   "metadata": {},
   "outputs": [],
   "source": [
    "state_configurations[5324]"
   ]
  },
  {
   "cell_type": "code",
   "execution_count": null,
   "metadata": {},
   "outputs": [],
   "source": [
    "# array([ 1.,  1.,  1., -1.,  1.,  1., -1., -1.,  1.])"
   ]
  },
  {
   "cell_type": "code",
   "execution_count": null,
   "metadata": {},
   "outputs": [],
   "source": [
    "state_configurations[1715]"
   ]
  },
  {
   "cell_type": "code",
   "execution_count": null,
   "metadata": {},
   "outputs": [],
   "source": [
    "testing = [-1,-1,0,-1,0,0,1,1,0]\n",
    "\n",
    "cur_state = np.where(np.all(state_configurations == testing, axis=1))[0][0]\n",
    "\n",
    "state_configurations[cur_state]\n"
   ]
  },
  {
   "cell_type": "code",
   "execution_count": null,
   "metadata": {},
   "outputs": [],
   "source": [
    "target_state = optimal_policies[cur_state]"
   ]
  },
  {
   "cell_type": "code",
   "execution_count": null,
   "metadata": {},
   "outputs": [],
   "source": [
    "state_configurations[int(target_state)]"
   ]
  },
  {
   "cell_type": "code",
   "execution_count": null,
   "metadata": {},
   "outputs": [],
   "source": [
    "import pickle\n",
    "\n",
    "# open a file, where you ant to store the data\n",
    "file = open('state_action', 'wb')\n",
    "\n",
    "# dump information to that file\n",
    "pickle.dump(optimal_policies, file)\n",
    "\n",
    "# close the file\n",
    "file.close()"
   ]
  },
  {
   "cell_type": "code",
   "execution_count": null,
   "metadata": {},
   "outputs": [],
   "source": [
    "# open a file, where you ant to store the data\n",
    "file = open('state_configuration', 'wb')\n",
    "\n",
    "# dump information to that file\n",
    "pickle.dump(state_configurations, file)\n",
    "\n",
    "# close the file\n",
    "file.close()"
   ]
  }
 ],
 "metadata": {
  "kernelspec": {
   "display_name": "Python 3",
   "language": "python",
   "name": "python3"
  },
  "language_info": {
   "codemirror_mode": {
    "name": "ipython",
    "version": 3
   },
   "file_extension": ".py",
   "mimetype": "text/x-python",
   "name": "python",
   "nbconvert_exporter": "python",
   "pygments_lexer": "ipython3",
   "version": "3.10.10"
  }
 },
 "nbformat": 4,
 "nbformat_minor": 2
}
